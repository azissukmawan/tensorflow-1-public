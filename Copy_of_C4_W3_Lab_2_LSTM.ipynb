{
  "cells": [
    {
      "cell_type": "markdown",
      "metadata": {
        "id": "view-in-github",
        "colab_type": "text"
      },
      "source": [
        "<a href=\"https://colab.research.google.com/github/azissukmawan/tensorflow-1-public/blob/main/Copy_of_C4_W3_Lab_2_LSTM.ipynb\" target=\"_parent\"><img src=\"https://colab.research.google.com/assets/colab-badge.svg\" alt=\"Open In Colab\"/></a>"
      ]
    },
    {
      "cell_type": "markdown",
      "metadata": {
        "id": "MIqOUhaKAb5d"
      },
      "source": [
        "<a href=\"https://colab.research.google.com/github/https-deeplearning-ai/tensorflow-1-public/blob/main/C4/W3/ungraded_labs/C4_W3_Lab_2_LSTM.ipynb\" target=\"_parent\"><img src=\"https://colab.research.google.com/assets/colab-badge.svg\" alt=\"Open In Colab\"/></a>"
      ]
    },
    {
      "cell_type": "markdown",
      "metadata": {
        "id": "sV_nvXSQGJPK"
      },
      "source": [
        "# Ungraded Lab: Using a multi-layer LSTM for forecasting\n",
        "\n",
        "In this lab, you will use the same RNN architecure in the first lab but will instead stack [LSTM](https://www.tensorflow.org/api_docs/python/tf/keras/layers/LSTM) layers instead of `SimpleRNN`."
      ]
    },
    {
      "cell_type": "markdown",
      "metadata": {
        "id": "3IMbAWETGOWD"
      },
      "source": [
        "## Imports"
      ]
    },
    {
      "cell_type": "code",
      "execution_count": 1,
      "metadata": {
        "id": "BOjujz601HcS"
      },
      "outputs": [],
      "source": [
        "import tensorflow as tf\n",
        "import numpy as np\n",
        "import matplotlib.pyplot as plt"
      ]
    },
    {
      "cell_type": "markdown",
      "metadata": {
        "id": "kD7RQQ0xGQVH"
      },
      "source": [
        "## Utilities"
      ]
    },
    {
      "cell_type": "code",
      "execution_count": 2,
      "metadata": {
        "id": "Zswl7jRtGzkk"
      },
      "outputs": [],
      "source": [
        "def plot_series(time, series, format=\"-\", start=0, end=None):\n",
        "    \"\"\"\n",
        "    Visualizes time series data\n",
        "\n",
        "    Args:\n",
        "      time (array of int) - contains the time steps\n",
        "      series (array of int) - contains the measurements for each time step\n",
        "      format - line style when plotting the graph\n",
        "      start - first time step to plot\n",
        "      end - last time step to plot\n",
        "    \"\"\"\n",
        "\n",
        "    # Setup dimensions of the graph figure\n",
        "    plt.figure(figsize=(10, 6))\n",
        "\n",
        "    if type(series) is tuple:\n",
        "\n",
        "      for series_num in series:\n",
        "        # Plot the time series data\n",
        "        plt.plot(time[start:end], series_num[start:end], format)\n",
        "\n",
        "    else:\n",
        "      # Plot the time series data\n",
        "      plt.plot(time[start:end], series[start:end], format)\n",
        "\n",
        "    # Label the x-axis\n",
        "    plt.xlabel(\"Time\")\n",
        "\n",
        "    # Label the y-axis\n",
        "    plt.ylabel(\"Value\")\n",
        "\n",
        "    # Overlay a grid on the graph\n",
        "    plt.grid(True)\n",
        "\n",
        "    # Draw the graph on screen\n",
        "    plt.show()\n",
        "\n",
        "def trend(time, slope=0):\n",
        "    \"\"\"\n",
        "    Generates synthetic data that follows a straight line given a slope value.\n",
        "\n",
        "    Args:\n",
        "      time (array of int) - contains the time steps\n",
        "      slope (float) - determines the direction and steepness of the line\n",
        "\n",
        "    Returns:\n",
        "      series (array of float) - measurements that follow a straight line\n",
        "    \"\"\"\n",
        "\n",
        "    # Compute the linear series given the slope\n",
        "    series = slope * time\n",
        "\n",
        "    return series\n",
        "\n",
        "def seasonal_pattern(season_time):\n",
        "    \"\"\"\n",
        "    Just an arbitrary pattern, you can change it if you wish\n",
        "\n",
        "    Args:\n",
        "      season_time (array of float) - contains the measurements per time step\n",
        "\n",
        "    Returns:\n",
        "      data_pattern (array of float) -  contains revised measurement values according\n",
        "                                  to the defined pattern\n",
        "    \"\"\"\n",
        "\n",
        "    # Generate the values using an arbitrary pattern\n",
        "    data_pattern = np.where(season_time < 0.4,\n",
        "                    np.cos(season_time * 2 * np.pi),\n",
        "                    1 / np.exp(3 * season_time))\n",
        "\n",
        "    return data_pattern\n",
        "\n",
        "def seasonality(time, period, amplitude=1, phase=0):\n",
        "    \"\"\"\n",
        "    Repeats the same pattern at each period\n",
        "\n",
        "    Args:\n",
        "      time (array of int) - contains the time steps\n",
        "      period (int) - number of time steps before the pattern repeats\n",
        "      amplitude (int) - peak measured value in a period\n",
        "      phase (int) - number of time steps to shift the measured values\n",
        "\n",
        "    Returns:\n",
        "      data_pattern (array of float) - seasonal data scaled by the defined amplitude\n",
        "    \"\"\"\n",
        "\n",
        "    # Define the measured values per period\n",
        "    season_time = ((time + phase) % period) / period\n",
        "\n",
        "    # Generates the seasonal data scaled by the defined amplitude\n",
        "    data_pattern = amplitude * seasonal_pattern(season_time)\n",
        "\n",
        "    return data_pattern\n",
        "\n",
        "def noise(time, noise_level=1, seed=None):\n",
        "    \"\"\"Generates a normally distributed noisy signal\n",
        "\n",
        "    Args:\n",
        "      time (array of int) - contains the time steps\n",
        "      noise_level (float) - scaling factor for the generated signal\n",
        "      seed (int) - number generator seed for repeatability\n",
        "\n",
        "    Returns:\n",
        "      noise (array of float) - the noisy signal\n",
        "    \"\"\"\n",
        "\n",
        "    # Initialize the random number generator\n",
        "    rnd = np.random.RandomState(seed)\n",
        "\n",
        "    # Generate a random number for each time step and scale by the noise level\n",
        "    noise = rnd.randn(len(time)) * noise_level\n",
        "\n",
        "    return noise"
      ]
    },
    {
      "cell_type": "markdown",
      "metadata": {
        "id": "yxNyeFWjGSdj"
      },
      "source": [
        "## Generate the Synthetic Data"
      ]
    },
    {
      "cell_type": "code",
      "execution_count": 3,
      "metadata": {
        "id": "KYEUfDbdpHPm",
        "colab": {
          "base_uri": "https://localhost:8080/",
          "height": 542
        },
        "outputId": "76a95e23-9396-4bcd-b281-5fde80bcd29f"
      },
      "outputs": [
        {
          "output_type": "display_data",
          "data": {
            "text/plain": [
              "<Figure size 1000x600 with 1 Axes>"
            ],
            "image/png": "[encoded data removed]"
          },
          "metadata": {}
        }
      ],
      "source": [
        "# Parameters\n",
        "time = np.arange(4 * 365 + 1, dtype=\"float32\")\n",
        "baseline = 10\n",
        "amplitude = 40\n",
        "slope = 0.05\n",
        "noise_level = 5\n",
        "\n",
        "# Create the series\n",
        "series = baseline + trend(time, slope) + seasonality(time, period=365, amplitude=amplitude)\n",
        "\n",
        "# Update with noise\n",
        "series += noise(time, noise_level, seed=42)\n",
        "\n",
        "# Plot the results\n",
        "plot_series(time, series)"
      ]
    },
    {
      "cell_type": "markdown",
      "metadata": {
        "id": "MYKCvv-eGWRc"
      },
      "source": [
        "## Split the Dataset"
      ]
    },
    {
      "cell_type": "code",
      "execution_count": 4,
      "metadata": {
        "id": "hpp0slenpKVD"
      },
      "outputs": [],
      "source": [
        "# Define the split time\n",
        "split_time = 1000\n",
        "\n",
        "# Get the train set\n",
        "time_train = time[:split_time]\n",
        "x_train = series[:split_time]\n",
        "\n",
        "# Get the validation set\n",
        "time_valid = time[split_time:]\n",
        "x_valid = series[split_time:]"
      ]
    },
    {
      "cell_type": "markdown",
      "metadata": {
        "id": "cktHz9aOGYtV"
      },
      "source": [
        "## Prepare Features and Labels"
      ]
    },
    {
      "cell_type": "code",
      "execution_count": 5,
      "metadata": {
        "id": "G_j_2_Mqwn7-"
      },
      "outputs": [],
      "source": [
        "# Parameters\n",
        "window_size = 20\n",
        "batch_size = 32\n",
        "shuffle_buffer_size = 1000"
      ]
    },
    {
      "cell_type": "code",
      "execution_count": 6,
      "metadata": {
        "id": "4sTTIOCbyShY"
      },
      "outputs": [],
      "source": [
        "def windowed_dataset(series, window_size, batch_size, shuffle_buffer):\n",
        "    \"\"\"Generates dataset windows\n",
        "\n",
        "    Args:\n",
        "      series (array of float) - contains the values of the time series\n",
        "      window_size (int) - the number of time steps to include in the feature\n",
        "      batch_size (int) - the batch size\n",
        "      shuffle_buffer(int) - buffer size to use for the shuffle method\n",
        "\n",
        "    Returns:\n",
        "      dataset (TF Dataset) - TF Dataset containing time windows\n",
        "    \"\"\"\n",
        "\n",
        "    # Generate a TF Dataset from the series values\n",
        "    dataset = tf.data.Dataset.from_tensor_slices(series)\n",
        "\n",
        "    # Window the data but only take those with the specified size\n",
        "    dataset = dataset.window(window_size + 1, shift=1, drop_remainder=True)\n",
        "\n",
        "    # Flatten the windows by putting its elements in a single batch\n",
        "    dataset = dataset.flat_map(lambda window: window.batch(window_size + 1))\n",
        "\n",
        "    # Create tuples with features and labels\n",
        "    dataset = dataset.map(lambda window: (window[:-1], window[-1]))\n",
        "\n",
        "    # Shuffle the windows\n",
        "    dataset = dataset.shuffle(shuffle_buffer)\n",
        "\n",
        "    # Create batches of windows\n",
        "    dataset = dataset.batch(batch_size).prefetch(1)\n",
        "\n",
        "    return dataset"
      ]
    },
    {
      "cell_type": "code",
      "execution_count": 7,
      "metadata": {
        "id": "vGj5-InSwtQQ"
      },
      "outputs": [],
      "source": [
        "# Generate the dataset windows\n",
        "dataset = windowed_dataset(x_train, window_size, batch_size, shuffle_buffer_size)"
      ]
    },
    {
      "cell_type": "markdown",
      "metadata": {
        "id": "p9-Ke8ZaGcjd"
      },
      "source": [
        "## Build the Model\n",
        "\n",
        "As mentioned, you will swap `SimpleRNN` for `LSTM` in this lab. It is also set as bidirectional below but feel free to revise later and see what results you get. LSTMs are much more complex in their internal architecture than simpleRNNs. It implements a cell state that allows it to remember sequences better than simple implementations. This added complexity results in a bigger set of parameters to train and you'll see that when you print the model summary below."
      ]
    },
    {
      "cell_type": "code",
      "execution_count": 8,
      "metadata": {
        "id": "A1Hl39rklkLm",
        "colab": {
          "base_uri": "https://localhost:8080/"
        },
        "outputId": "62b165f0-cfc2-4ce3-db86-e447a5eae7bc"
      },
      "outputs": [
        {
          "output_type": "stream",
          "name": "stdout",
          "text": [
            "Model: \"sequential\"\n",
            "_________________________________________________________________\n",
            " Layer (type)                Output Shape              Param #   \n",
            "=================================================================\n",
            " lambda (Lambda)             (None, 20, 1)             0         \n",
            "                                                                 \n",
            " bidirectional (Bidirection  (None, 20, 64)            8704      \n",
            " al)                                                             \n",
            "                                                                 \n",
            " bidirectional_1 (Bidirecti  (None, 64)                24832     \n",
            " onal)                                                           \n",
            "                                                                 \n",
            " dense (Dense)               (None, 1)                 65        \n",
            "                                                                 \n",
            " lambda_1 (Lambda)           (None, 1)                 0         \n",
            "                                                                 \n",
            "=================================================================\n",
            "Total params: 33601 (131.25 KB)\n",
            "Trainable params: 33601 (131.25 KB)\n",
            "Non-trainable params: 0 (0.00 Byte)\n",
            "_________________________________________________________________\n"
          ]
        }
      ],
      "source": [
        "# Build the Model\n",
        "model_tune = tf.keras.models.Sequential([\n",
        "  tf.keras.layers.Lambda(lambda x: tf.expand_dims(x, axis=-1),\n",
        "                      input_shape=[window_size]),\n",
        "    tf.keras.layers.Bidirectional(tf.keras.layers.LSTM(32, return_sequences=True)),\n",
        "  tf.keras.layers.Bidirectional(tf.keras.layers.LSTM(32)),\n",
        "  tf.keras.layers.Dense(1),\n",
        "  tf.keras.layers.Lambda(lambda x: x * 100.0)\n",
        "])\n",
        "\n",
        "# Print the model summary\n",
        "model_tune.summary()"
      ]
    },
    {
      "cell_type": "markdown",
      "metadata": {
        "id": "FHaFblbwq0GV"
      },
      "source": [
        "## Tune the Learning Rate\n",
        "\n",
        "As usual, you will pick a learning rate by running the tuning code below."
      ]
    },
    {
      "cell_type": "code",
      "execution_count": 9,
      "metadata": {
        "id": "qE7al18qw48G",
        "colab": {
          "base_uri": "https://localhost:8080/"
        },
        "outputId": "aca48a6f-bb22-44b2-e041-43af37a5b228"
      },
      "outputs": [
        {
          "output_type": "stream",
          "name": "stdout",
          "text": [
            "Epoch 1/100\n",
            "31/31 [==============================] - 12s 9ms/step - loss: 17.9172 - lr: 1.0000e-08\n",
            "Epoch 2/100\n",
            "31/31 [==============================] - 0s 9ms/step - loss: 17.6288 - lr: 1.1220e-08\n",
            "Epoch 3/100\n",
            "31/31 [==============================] - 0s 8ms/step - loss: 17.3103 - lr: 1.2589e-08\n",
            "Epoch 4/100\n",
            "31/31 [==============================] - 0s 8ms/step - loss: 16.9857 - lr: 1.4125e-08\n",
            "Epoch 5/100\n",
            "31/31 [==============================] - 0s 9ms/step - loss: 16.6584 - lr: 1.5849e-08\n",
            "Epoch 6/100\n",
            "31/31 [==============================] - 1s 12ms/step - loss: 16.3356 - lr: 1.7783e-08\n",
            "Epoch 7/100\n",
            "31/31 [==============================] - 1s 12ms/step - loss: 16.0176 - lr: 1.9953e-08\n",
            "Epoch 8/100\n",
            "31/31 [==============================] - 1s 12ms/step - loss: 15.7191 - lr: 2.2387e-08\n",
            "Epoch 9/100\n",
            "31/31 [==============================] - 1s 12ms/step - loss: 15.4279 - lr: 2.5119e-08\n",
            "Epoch 10/100\n",
            "31/31 [==============================] - 1s 12ms/step - loss: 15.1748 - lr: 2.8184e-08\n",
            "Epoch 11/100\n",
            "31/31 [==============================] - 0s 10ms/step - loss: 14.9228 - lr: 3.1623e-08\n",
            "Epoch 12/100\n",
            "31/31 [==============================] - 0s 9ms/step - loss: 14.6922 - lr: 3.5481e-08\n",
            "Epoch 13/100\n",
            "31/31 [==============================] - 0s 9ms/step - loss: 14.4684 - lr: 3.9811e-08\n",
            "Epoch 14/100\n",
            "31/31 [==============================] - 0s 8ms/step - loss: 14.2549 - lr: 4.4668e-08\n",
            "Epoch 15/100\n",
            "31/31 [==============================] - 0s 8ms/step - loss: 14.0412 - lr: 5.0119e-08\n",
            "Epoch 16/100\n",
            "31/31 [==============================] - 0s 9ms/step - loss: 13.8195 - lr: 5.6234e-08\n",
            "Epoch 17/100\n",
            "31/31 [==============================] - 0s 8ms/step - loss: 13.5893 - lr: 6.3096e-08\n",
            "Epoch 18/100\n",
            "31/31 [==============================] - 0s 9ms/step - loss: 13.3337 - lr: 7.0795e-08\n",
            "Epoch 19/100\n",
            "31/31 [==============================] - 0s 8ms/step - loss: 13.0570 - lr: 7.9433e-08\n",
            "Epoch 20/100\n",
            "31/31 [==============================] - 0s 8ms/step - loss: 12.7530 - lr: 8.9125e-08\n",
            "Epoch 21/100\n",
            "31/31 [==============================] - 0s 8ms/step - loss: 12.4154 - lr: 1.0000e-07\n",
            "Epoch 22/100\n",
            "31/31 [==============================] - 0s 8ms/step - loss: 12.0440 - lr: 1.1220e-07\n",
            "Epoch 23/100\n",
            "31/31 [==============================] - 0s 9ms/step - loss: 11.6374 - lr: 1.2589e-07\n",
            "Epoch 24/100\n",
            "31/31 [==============================] - 0s 9ms/step - loss: 11.1762 - lr: 1.4125e-07\n",
            "Epoch 25/100\n",
            "31/31 [==============================] - 0s 9ms/step - loss: 10.6710 - lr: 1.5849e-07\n",
            "Epoch 26/100\n",
            "31/31 [==============================] - 0s 9ms/step - loss: 10.0846 - lr: 1.7783e-07\n",
            "Epoch 27/100\n",
            "31/31 [==============================] - 0s 9ms/step - loss: 9.4108 - lr: 1.9953e-07\n",
            "Epoch 28/100\n",
            "31/31 [==============================] - 0s 8ms/step - loss: 8.6848 - lr: 2.2387e-07\n",
            "Epoch 29/100\n",
            "31/31 [==============================] - 0s 8ms/step - loss: 8.0522 - lr: 2.5119e-07\n",
            "Epoch 30/100\n",
            "31/31 [==============================] - 0s 8ms/step - loss: 7.7729 - lr: 2.8184e-07\n",
            "Epoch 31/100\n",
            "31/31 [==============================] - 0s 8ms/step - loss: 7.4036 - lr: 3.1623e-07\n",
            "Epoch 32/100\n",
            "31/31 [==============================] - 0s 8ms/step - loss: 7.2025 - lr: 3.5481e-07\n",
            "Epoch 33/100\n",
            "31/31 [==============================] - 0s 8ms/step - loss: 6.8555 - lr: 3.9811e-07\n",
            "Epoch 34/100\n",
            "31/31 [==============================] - 1s 33ms/step - loss: 6.5732 - lr: 4.4668e-07\n",
            "Epoch 35/100\n",
            "31/31 [==============================] - 1s 22ms/step - loss: 6.2620 - lr: 5.0119e-07\n",
            "Epoch 36/100\n",
            "31/31 [==============================] - 1s 17ms/step - loss: 6.1984 - lr: 5.6234e-07\n",
            "Epoch 37/100\n",
            "31/31 [==============================] - 1s 15ms/step - loss: 6.1154 - lr: 6.3096e-07\n",
            "Epoch 38/100\n",
            "31/31 [==============================] - 0s 9ms/step - loss: 5.9262 - lr: 7.0795e-07\n",
            "Epoch 39/100\n",
            "31/31 [==============================] - 0s 9ms/step - loss: 5.8135 - lr: 7.9433e-07\n",
            "Epoch 40/100\n",
            "31/31 [==============================] - 0s 9ms/step - loss: 5.7605 - lr: 8.9125e-07\n",
            "Epoch 41/100\n",
            "31/31 [==============================] - 0s 8ms/step - loss: 5.7146 - lr: 1.0000e-06\n",
            "Epoch 42/100\n",
            "31/31 [==============================] - 0s 8ms/step - loss: 5.6034 - lr: 1.1220e-06\n",
            "Epoch 43/100\n",
            "31/31 [==============================] - 0s 8ms/step - loss: 5.5521 - lr: 1.2589e-06\n",
            "Epoch 44/100\n",
            "31/31 [==============================] - 0s 8ms/step - loss: 5.5211 - lr: 1.4125e-06\n",
            "Epoch 45/100\n",
            "31/31 [==============================] - 0s 8ms/step - loss: 5.4794 - lr: 1.5849e-06\n",
            "Epoch 46/100\n",
            "31/31 [==============================] - 0s 9ms/step - loss: 5.5003 - lr: 1.7783e-06\n",
            "Epoch 47/100\n",
            "31/31 [==============================] - 0s 9ms/step - loss: 5.4592 - lr: 1.9953e-06\n",
            "Epoch 48/100\n",
            "31/31 [==============================] - 0s 9ms/step - loss: 5.2987 - lr: 2.2387e-06\n",
            "Epoch 49/100\n",
            "31/31 [==============================] - 0s 9ms/step - loss: 5.4961 - lr: 2.5119e-06\n",
            "Epoch 50/100\n",
            "31/31 [==============================] - 0s 8ms/step - loss: 5.4250 - lr: 2.8184e-06\n",
            "Epoch 51/100\n",
            "31/31 [==============================] - 0s 8ms/step - loss: 5.2717 - lr: 3.1623e-06\n",
            "Epoch 52/100\n",
            "31/31 [==============================] - 0s 8ms/step - loss: 5.1408 - lr: 3.5481e-06\n",
            "Epoch 53/100\n",
            "31/31 [==============================] - 0s 9ms/step - loss: 5.2038 - lr: 3.9811e-06\n",
            "Epoch 54/100\n",
            "31/31 [==============================] - 0s 9ms/step - loss: 5.3591 - lr: 4.4668e-06\n",
            "Epoch 55/100\n",
            "31/31 [==============================] - 0s 8ms/step - loss: 5.1256 - lr: 5.0119e-06\n",
            "Epoch 56/100\n",
            "31/31 [==============================] - 0s 9ms/step - loss: 5.6007 - lr: 5.6234e-06\n",
            "Epoch 57/100\n",
            "31/31 [==============================] - 0s 8ms/step - loss: 5.1948 - lr: 6.3096e-06\n",
            "Epoch 58/100\n",
            "31/31 [==============================] - 0s 8ms/step - loss: 5.0443 - lr: 7.0795e-06\n",
            "Epoch 59/100\n",
            "31/31 [==============================] - 0s 12ms/step - loss: 5.2599 - lr: 7.9433e-06\n",
            "Epoch 60/100\n",
            "31/31 [==============================] - 1s 13ms/step - loss: 5.3125 - lr: 8.9125e-06\n",
            "Epoch 61/100\n",
            "31/31 [==============================] - 1s 13ms/step - loss: 5.1454 - lr: 1.0000e-05\n",
            "Epoch 62/100\n",
            "31/31 [==============================] - 1s 13ms/step - loss: 5.1414 - lr: 1.1220e-05\n",
            "Epoch 63/100\n",
            "31/31 [==============================] - 1s 12ms/step - loss: 5.3037 - lr: 1.2589e-05\n",
            "Epoch 64/100\n",
            "31/31 [==============================] - 1s 12ms/step - loss: 5.1714 - lr: 1.4125e-05\n",
            "Epoch 65/100\n",
            "31/31 [==============================] - 0s 9ms/step - loss: 5.0316 - lr: 1.5849e-05\n",
            "Epoch 66/100\n",
            "31/31 [==============================] - 0s 9ms/step - loss: 5.3361 - lr: 1.7783e-05\n",
            "Epoch 67/100\n",
            "31/31 [==============================] - 0s 8ms/step - loss: 5.0133 - lr: 1.9953e-05\n",
            "Epoch 68/100\n",
            "31/31 [==============================] - 0s 8ms/step - loss: 5.1939 - lr: 2.2387e-05\n",
            "Epoch 69/100\n",
            "31/31 [==============================] - 0s 8ms/step - loss: 5.5899 - lr: 2.5119e-05\n",
            "Epoch 70/100\n",
            "31/31 [==============================] - 0s 8ms/step - loss: 5.6748 - lr: 2.8184e-05\n",
            "Epoch 71/100\n",
            "31/31 [==============================] - 0s 9ms/step - loss: 5.3603 - lr: 3.1623e-05\n",
            "Epoch 72/100\n",
            "31/31 [==============================] - 0s 8ms/step - loss: 5.8545 - lr: 3.5481e-05\n",
            "Epoch 73/100\n",
            "31/31 [==============================] - 0s 8ms/step - loss: 6.3073 - lr: 3.9811e-05\n",
            "Epoch 74/100\n",
            "31/31 [==============================] - 0s 9ms/step - loss: 5.4246 - lr: 4.4668e-05\n",
            "Epoch 75/100\n",
            "31/31 [==============================] - 0s 9ms/step - loss: 5.3183 - lr: 5.0119e-05\n",
            "Epoch 76/100\n",
            "31/31 [==============================] - 0s 8ms/step - loss: 5.8797 - lr: 5.6234e-05\n",
            "Epoch 77/100\n",
            "31/31 [==============================] - 0s 9ms/step - loss: 6.5852 - lr: 6.3096e-05\n",
            "Epoch 78/100\n",
            "31/31 [==============================] - 0s 8ms/step - loss: 6.3938 - lr: 7.0795e-05\n",
            "Epoch 79/100\n",
            "31/31 [==============================] - 0s 9ms/step - loss: 6.2104 - lr: 7.9433e-05\n",
            "Epoch 80/100\n",
            "31/31 [==============================] - 0s 8ms/step - loss: 5.9378 - lr: 8.9125e-05\n",
            "Epoch 81/100\n",
            "31/31 [==============================] - 0s 9ms/step - loss: 7.1446 - lr: 1.0000e-04\n",
            "Epoch 82/100\n",
            "31/31 [==============================] - 0s 8ms/step - loss: 5.9931 - lr: 1.1220e-04\n",
            "Epoch 83/100\n",
            "31/31 [==============================] - 0s 9ms/step - loss: 6.4630 - lr: 1.2589e-04\n",
            "Epoch 84/100\n",
            "31/31 [==============================] - 0s 9ms/step - loss: 7.6628 - lr: 1.4125e-04\n",
            "Epoch 85/100\n",
            "31/31 [==============================] - 0s 8ms/step - loss: 6.7107 - lr: 1.5849e-04\n",
            "Epoch 86/100\n",
            "31/31 [==============================] - 0s 9ms/step - loss: 7.0208 - lr: 1.7783e-04\n",
            "Epoch 87/100\n",
            "31/31 [==============================] - 0s 8ms/step - loss: 10.1424 - lr: 1.9953e-04\n",
            "Epoch 88/100\n",
            "31/31 [==============================] - 0s 12ms/step - loss: 7.9730 - lr: 2.2387e-04\n",
            "Epoch 89/100\n",
            "31/31 [==============================] - 1s 13ms/step - loss: 8.8104 - lr: 2.5119e-04\n",
            "Epoch 90/100\n",
            "31/31 [==============================] - 1s 12ms/step - loss: 10.0847 - lr: 2.8184e-04\n",
            "Epoch 91/100\n",
            "31/31 [==============================] - 1s 12ms/step - loss: 8.6624 - lr: 3.1623e-04\n",
            "Epoch 92/100\n",
            "31/31 [==============================] - 1s 12ms/step - loss: 7.2607 - lr: 3.5481e-04\n",
            "Epoch 93/100\n",
            "31/31 [==============================] - 1s 12ms/step - loss: 7.6055 - lr: 3.9811e-04\n",
            "Epoch 94/100\n",
            "31/31 [==============================] - 0s 9ms/step - loss: 7.8972 - lr: 4.4668e-04\n",
            "Epoch 95/100\n",
            "31/31 [==============================] - 0s 9ms/step - loss: 9.8665 - lr: 5.0119e-04\n",
            "Epoch 96/100\n",
            "31/31 [==============================] - 0s 9ms/step - loss: 8.3072 - lr: 5.6234e-04\n",
            "Epoch 97/100\n",
            "31/31 [==============================] - 0s 8ms/step - loss: 11.6411 - lr: 6.3096e-04\n",
            "Epoch 98/100\n",
            "31/31 [==============================] - 0s 8ms/step - loss: 8.7762 - lr: 7.0795e-04\n",
            "Epoch 99/100\n",
            "31/31 [==============================] - 0s 8ms/step - loss: 13.5533 - lr: 7.9433e-04\n",
            "Epoch 100/100\n",
            "31/31 [==============================] - 0s 8ms/step - loss: 14.2101 - lr: 8.9125e-04\n"
          ]
        }
      ],
      "source": [
        "# Set the learning rate scheduler\n",
        "lr_schedule = tf.keras.callbacks.LearningRateScheduler(\n",
        "    lambda epoch: 1e-8 * 10**(epoch / 20))\n",
        "\n",
        "# Initialize the optimizer\n",
        "optimizer = tf.keras.optimizers.SGD(momentum=0.9)\n",
        "\n",
        "# Set the training parameters\n",
        "model_tune.compile(loss=tf.keras.losses.Huber(), optimizer=optimizer)\n",
        "\n",
        "# Train the model\n",
        "history = model_tune.fit(dataset, epochs=100, callbacks=[lr_schedule])"
      ]
    },
    {
      "cell_type": "code",
      "execution_count": 10,
      "metadata": {
        "id": "AkBsrsXMzoWR",
        "colab": {
          "base_uri": "https://localhost:8080/",
          "height": 558
        },
        "outputId": "080e2cfb-2c35-47c7-8a62-7254af47a017"
      },
      "outputs": [
        {
          "output_type": "execute_result",
          "data": {
            "text/plain": [
              "(1e-08, 0.001, 0.0, 30.0)"
            ]
          },
          "metadata": {},
          "execution_count": 10
        },
        {
          "output_type": "display_data",
          "data": {
            "text/plain": [
              "<Figure size 1000x600 with 1 Axes>"
            ],
            "image/png": "[encoded data removed]"
          },
          "metadata": {}
        }
      ],
      "source": [
        "# Define the learning rate array\n",
        "lrs = 1e-8 * (10 ** (np.arange(100) / 20))\n",
        "\n",
        "# Set the figure size\n",
        "plt.figure(figsize=(10, 6))\n",
        "\n",
        "# Set the grid\n",
        "plt.grid(True)\n",
        "\n",
        "# Plot the loss in log scale\n",
        "plt.semilogx(lrs, history.history[\"loss\"])\n",
        "\n",
        "# Increase the tickmarks size\n",
        "plt.tick_params('both', length=10, width=1, which='both')\n",
        "\n",
        "# Set the plot boundaries\n",
        "plt.axis([1e-8, 1e-3, 0, 30])"
      ]
    },
    {
      "cell_type": "markdown",
      "metadata": {
        "id": "i-lKNp4pq_w8"
      },
      "source": [
        "## Train the Model\n",
        "\n",
        "You can then proceed to train the model with your chosen learning rate.\n",
        "\n",
        "*Tip: When experimenting and you find yourself running different iterations of a model, you may want to use the [`clear_session()`](https://www.tensorflow.org/api_docs/python/tf/keras/backend/clear_session) method to declutter memory used by Keras. This is added in the first line below.*\n"
      ]
    },
    {
      "cell_type": "code",
      "execution_count": 11,
      "metadata": {
        "id": "4uh-97bpLZCA",
        "colab": {
          "base_uri": "https://localhost:8080/"
        },
        "outputId": "0d4ef359-c34f-4189-b36e-d664889cd223"
      },
      "outputs": [
        {
          "output_type": "stream",
          "name": "stdout",
          "text": [
            "Epoch 1/100\n",
            "31/31 [==============================] - 6s 10ms/step - loss: 22.5593 - mae: 23.0530\n",
            "Epoch 2/100\n",
            "31/31 [==============================] - 0s 9ms/step - loss: 12.8208 - mae: 13.3134\n",
            "Epoch 3/100\n",
            "31/31 [==============================] - 0s 10ms/step - loss: 11.0272 - mae: 11.5197\n",
            "Epoch 4/100\n",
            "31/31 [==============================] - 1s 12ms/step - loss: 9.6755 - mae: 10.1619\n",
            "Epoch 5/100\n",
            "31/31 [==============================] - 1s 12ms/step - loss: 8.6109 - mae: 9.0975\n",
            "Epoch 6/100\n",
            "31/31 [==============================] - 1s 13ms/step - loss: 7.6481 - mae: 8.1317\n",
            "Epoch 7/100\n",
            "31/31 [==============================] - 1s 11ms/step - loss: 6.7353 - mae: 7.2151\n",
            "Epoch 8/100\n",
            "31/31 [==============================] - 1s 13ms/step - loss: 6.5502 - mae: 7.0322\n",
            "Epoch 9/100\n",
            "31/31 [==============================] - 0s 9ms/step - loss: 6.4102 - mae: 6.8893\n",
            "Epoch 10/100\n",
            "31/31 [==============================] - 0s 10ms/step - loss: 6.2686 - mae: 6.7458\n",
            "Epoch 11/100\n",
            "31/31 [==============================] - 0s 9ms/step - loss: 6.1943 - mae: 6.6738\n",
            "Epoch 12/100\n",
            "31/31 [==============================] - 0s 9ms/step - loss: 6.1053 - mae: 6.5825\n",
            "Epoch 13/100\n",
            "31/31 [==============================] - 0s 9ms/step - loss: 6.0379 - mae: 6.5144\n",
            "Epoch 14/100\n",
            "31/31 [==============================] - 0s 9ms/step - loss: 6.0086 - mae: 6.4902\n",
            "Epoch 15/100\n",
            "31/31 [==============================] - 0s 9ms/step - loss: 6.0158 - mae: 6.4978\n",
            "Epoch 16/100\n",
            "31/31 [==============================] - 0s 8ms/step - loss: 5.8416 - mae: 6.3164\n",
            "Epoch 17/100\n",
            "31/31 [==============================] - 0s 9ms/step - loss: 5.7662 - mae: 6.2449\n",
            "Epoch 18/100\n",
            "31/31 [==============================] - 0s 8ms/step - loss: 5.7008 - mae: 6.1764\n",
            "Epoch 19/100\n",
            "31/31 [==============================] - 0s 9ms/step - loss: 5.6203 - mae: 6.0966\n",
            "Epoch 20/100\n",
            "31/31 [==============================] - 0s 9ms/step - loss: 5.6616 - mae: 6.1417\n",
            "Epoch 21/100\n",
            "31/31 [==============================] - 0s 9ms/step - loss: 5.6100 - mae: 6.0881\n",
            "Epoch 22/100\n",
            "31/31 [==============================] - 0s 9ms/step - loss: 5.5041 - mae: 5.9839\n",
            "Epoch 23/100\n",
            "31/31 [==============================] - 0s 9ms/step - loss: 5.5309 - mae: 6.0089\n",
            "Epoch 24/100\n",
            "31/31 [==============================] - 0s 9ms/step - loss: 5.5084 - mae: 5.9892\n",
            "Epoch 25/100\n",
            "31/31 [==============================] - 0s 9ms/step - loss: 5.4515 - mae: 5.9289\n",
            "Epoch 26/100\n",
            "31/31 [==============================] - 0s 9ms/step - loss: 5.3801 - mae: 5.8562\n",
            "Epoch 27/100\n",
            "31/31 [==============================] - 0s 8ms/step - loss: 5.6347 - mae: 6.1103\n",
            "Epoch 28/100\n",
            "31/31 [==============================] - 0s 9ms/step - loss: 5.5565 - mae: 6.0328\n",
            "Epoch 29/100\n",
            "31/31 [==============================] - 0s 9ms/step - loss: 5.3148 - mae: 5.7920\n",
            "Epoch 30/100\n",
            "31/31 [==============================] - 0s 9ms/step - loss: 5.5275 - mae: 6.0043\n",
            "Epoch 31/100\n",
            "31/31 [==============================] - 0s 9ms/step - loss: 5.3868 - mae: 5.8661\n",
            "Epoch 32/100\n",
            "31/31 [==============================] - 1s 12ms/step - loss: 5.5334 - mae: 6.0121\n",
            "Epoch 33/100\n",
            "31/31 [==============================] - 1s 12ms/step - loss: 5.3589 - mae: 5.8338\n",
            "Epoch 34/100\n",
            "31/31 [==============================] - 1s 13ms/step - loss: 5.2923 - mae: 5.7701\n",
            "Epoch 35/100\n",
            "31/31 [==============================] - 1s 13ms/step - loss: 5.1930 - mae: 5.6668\n",
            "Epoch 36/100\n",
            "31/31 [==============================] - 1s 13ms/step - loss: 5.1959 - mae: 5.6761\n",
            "Epoch 37/100\n",
            "31/31 [==============================] - 1s 13ms/step - loss: 5.1451 - mae: 5.6203\n",
            "Epoch 38/100\n",
            "31/31 [==============================] - 0s 9ms/step - loss: 5.1386 - mae: 5.6148\n",
            "Epoch 39/100\n",
            "31/31 [==============================] - 0s 9ms/step - loss: 5.1022 - mae: 5.5776\n",
            "Epoch 40/100\n",
            "31/31 [==============================] - 0s 9ms/step - loss: 5.1633 - mae: 5.6421\n",
            "Epoch 41/100\n",
            "31/31 [==============================] - 0s 8ms/step - loss: 5.1950 - mae: 5.6676\n",
            "Epoch 42/100\n",
            "31/31 [==============================] - 0s 9ms/step - loss: 5.1253 - mae: 5.6058\n",
            "Epoch 43/100\n",
            "31/31 [==============================] - 0s 9ms/step - loss: 5.0079 - mae: 5.4843\n",
            "Epoch 44/100\n",
            "31/31 [==============================] - 0s 9ms/step - loss: 5.0971 - mae: 5.5754\n",
            "Epoch 45/100\n",
            "31/31 [==============================] - 0s 9ms/step - loss: 5.0562 - mae: 5.5323\n",
            "Epoch 46/100\n",
            "31/31 [==============================] - 0s 9ms/step - loss: 5.0299 - mae: 5.5084\n",
            "Epoch 47/100\n",
            "31/31 [==============================] - 0s 9ms/step - loss: 4.9638 - mae: 5.4383\n",
            "Epoch 48/100\n",
            "31/31 [==============================] - 0s 9ms/step - loss: 5.1510 - mae: 5.6278\n",
            "Epoch 49/100\n",
            "31/31 [==============================] - 0s 9ms/step - loss: 5.0066 - mae: 5.4851\n",
            "Epoch 50/100\n",
            "31/31 [==============================] - 0s 9ms/step - loss: 4.9545 - mae: 5.4319\n",
            "Epoch 51/100\n",
            "31/31 [==============================] - 0s 9ms/step - loss: 4.9376 - mae: 5.4170\n",
            "Epoch 52/100\n",
            "31/31 [==============================] - 0s 9ms/step - loss: 4.9389 - mae: 5.4160\n",
            "Epoch 53/100\n",
            "31/31 [==============================] - 0s 9ms/step - loss: 4.8898 - mae: 5.3679\n",
            "Epoch 54/100\n",
            "31/31 [==============================] - 0s 9ms/step - loss: 4.9340 - mae: 5.4160\n",
            "Epoch 55/100\n",
            "31/31 [==============================] - 0s 9ms/step - loss: 4.9737 - mae: 5.4554\n",
            "Epoch 56/100\n",
            "31/31 [==============================] - 0s 9ms/step - loss: 4.8726 - mae: 5.3484\n",
            "Epoch 57/100\n",
            "31/31 [==============================] - 0s 9ms/step - loss: 4.8726 - mae: 5.3483\n",
            "Epoch 58/100\n",
            "31/31 [==============================] - 0s 9ms/step - loss: 4.8598 - mae: 5.3343\n",
            "Epoch 59/100\n",
            "31/31 [==============================] - 0s 9ms/step - loss: 4.8955 - mae: 5.3753\n",
            "Epoch 60/100\n",
            "31/31 [==============================] - 0s 9ms/step - loss: 5.0600 - mae: 5.5395\n",
            "Epoch 61/100\n",
            "31/31 [==============================] - 1s 13ms/step - loss: 4.8165 - mae: 5.2871\n",
            "Epoch 62/100\n",
            "31/31 [==============================] - 1s 13ms/step - loss: 4.9839 - mae: 5.4600\n",
            "Epoch 63/100\n",
            "31/31 [==============================] - 1s 13ms/step - loss: 4.8685 - mae: 5.3454\n",
            "Epoch 64/100\n",
            "31/31 [==============================] - 1s 13ms/step - loss: 4.9081 - mae: 5.3838\n",
            "Epoch 65/100\n",
            "31/31 [==============================] - 1s 13ms/step - loss: 5.0032 - mae: 5.4833\n",
            "Epoch 66/100\n",
            "31/31 [==============================] - 0s 10ms/step - loss: 5.0475 - mae: 5.5262\n",
            "Epoch 67/100\n",
            "31/31 [==============================] - 0s 9ms/step - loss: 4.7929 - mae: 5.2731\n",
            "Epoch 68/100\n",
            "31/31 [==============================] - 0s 9ms/step - loss: 4.7775 - mae: 5.2553\n",
            "Epoch 69/100\n",
            "31/31 [==============================] - 0s 9ms/step - loss: 4.8451 - mae: 5.3219\n",
            "Epoch 70/100\n",
            "31/31 [==============================] - 0s 9ms/step - loss: 4.7559 - mae: 5.2305\n",
            "Epoch 71/100\n",
            "31/31 [==============================] - 0s 8ms/step - loss: 4.7641 - mae: 5.2388\n",
            "Epoch 72/100\n",
            "31/31 [==============================] - 0s 9ms/step - loss: 4.8111 - mae: 5.2921\n",
            "Epoch 73/100\n",
            "31/31 [==============================] - 0s 8ms/step - loss: 4.7372 - mae: 5.2164\n",
            "Epoch 74/100\n",
            "31/31 [==============================] - 0s 9ms/step - loss: 4.7715 - mae: 5.2528\n",
            "Epoch 75/100\n",
            "31/31 [==============================] - 0s 9ms/step - loss: 4.7314 - mae: 5.2081\n",
            "Epoch 76/100\n",
            "31/31 [==============================] - 0s 9ms/step - loss: 4.7519 - mae: 5.2253\n",
            "Epoch 77/100\n",
            "31/31 [==============================] - 0s 9ms/step - loss: 4.7159 - mae: 5.1872\n",
            "Epoch 78/100\n",
            "31/31 [==============================] - 0s 9ms/step - loss: 4.7198 - mae: 5.1953\n",
            "Epoch 79/100\n",
            "31/31 [==============================] - 0s 9ms/step - loss: 4.7003 - mae: 5.1767\n",
            "Epoch 80/100\n",
            "31/31 [==============================] - 0s 8ms/step - loss: 4.7003 - mae: 5.1791\n",
            "Epoch 81/100\n",
            "31/31 [==============================] - 0s 9ms/step - loss: 4.6862 - mae: 5.1617\n",
            "Epoch 82/100\n",
            "31/31 [==============================] - 0s 8ms/step - loss: 4.7125 - mae: 5.1918\n",
            "Epoch 83/100\n",
            "31/31 [==============================] - 0s 8ms/step - loss: 4.6977 - mae: 5.1729\n",
            "Epoch 84/100\n",
            "31/31 [==============================] - 0s 8ms/step - loss: 4.7146 - mae: 5.1913\n",
            "Epoch 85/100\n",
            "31/31 [==============================] - 0s 9ms/step - loss: 4.6330 - mae: 5.1084\n",
            "Epoch 86/100\n",
            "31/31 [==============================] - 0s 9ms/step - loss: 4.7050 - mae: 5.1815\n",
            "Epoch 87/100\n",
            "31/31 [==============================] - 0s 9ms/step - loss: 4.6727 - mae: 5.1477\n",
            "Epoch 88/100\n",
            "31/31 [==============================] - 0s 9ms/step - loss: 4.6567 - mae: 5.1358\n",
            "Epoch 89/100\n",
            "31/31 [==============================] - 1s 12ms/step - loss: 4.6506 - mae: 5.1206\n",
            "Epoch 90/100\n",
            "31/31 [==============================] - 1s 12ms/step - loss: 4.8420 - mae: 5.3218\n",
            "Epoch 91/100\n",
            "31/31 [==============================] - 1s 13ms/step - loss: 4.7684 - mae: 5.2409\n",
            "Epoch 92/100\n",
            "31/31 [==============================] - 1s 13ms/step - loss: 4.7109 - mae: 5.1854\n",
            "Epoch 93/100\n",
            "31/31 [==============================] - 1s 13ms/step - loss: 4.7156 - mae: 5.1923\n",
            "Epoch 94/100\n",
            "31/31 [==============================] - 0s 9ms/step - loss: 4.7685 - mae: 5.2454\n",
            "Epoch 95/100\n",
            "31/31 [==============================] - 0s 9ms/step - loss: 4.6838 - mae: 5.1624\n",
            "Epoch 96/100\n",
            "31/31 [==============================] - 0s 9ms/step - loss: 4.6672 - mae: 5.1470\n",
            "Epoch 97/100\n",
            "31/31 [==============================] - 0s 9ms/step - loss: 4.5936 - mae: 5.0694\n",
            "Epoch 98/100\n",
            "31/31 [==============================] - 0s 9ms/step - loss: 4.9717 - mae: 5.4507\n",
            "Epoch 99/100\n",
            "31/31 [==============================] - 0s 9ms/step - loss: 4.7072 - mae: 5.1850\n",
            "Epoch 100/100\n",
            "31/31 [==============================] - 0s 9ms/step - loss: 4.6323 - mae: 5.1081\n"
          ]
        }
      ],
      "source": [
        "# Reset states generated by Keras\n",
        "tf.keras.backend.clear_session()\n",
        "\n",
        "# Build the model\n",
        "model = tf.keras.models.Sequential([\n",
        "  tf.keras.layers.Lambda(lambda x: tf.expand_dims(x, axis=-1),\n",
        "                      input_shape=[None]),\n",
        "   tf.keras.layers.Bidirectional(tf.keras.layers.LSTM(32, return_sequences=True)),\n",
        "  tf.keras.layers.Bidirectional(tf.keras.layers.LSTM(32)),\n",
        "  tf.keras.layers.Dense(1),\n",
        "  tf.keras.layers.Lambda(lambda x: x * 100.0)\n",
        "])\n",
        "\n",
        "# Set the learning rate\n",
        "learning_rate = 2e-6\n",
        "\n",
        "# Set the optimizer\n",
        "optimizer = tf.keras.optimizers.SGD(learning_rate=learning_rate, momentum=0.9)\n",
        "\n",
        "# Set the training parameters\n",
        "model.compile(loss=tf.keras.losses.Huber(),\n",
        "              optimizer=optimizer,\n",
        "              metrics=[\"mae\"])\n",
        "\n",
        "# Train the model\n",
        "history = model.fit(dataset,epochs=100)"
      ]
    },
    {
      "cell_type": "markdown",
      "metadata": {
        "id": "RjP4kbGiI7cw"
      },
      "source": [
        "## Model Prediction\n",
        "\n",
        "You will then generate batches of windows to generate predictions that align with the validation set."
      ]
    },
    {
      "cell_type": "code",
      "execution_count": 12,
      "metadata": {
        "id": "QO8cfKwKBBG6"
      },
      "outputs": [],
      "source": [
        "def model_forecast(model, series, window_size, batch_size):\n",
        "    \"\"\"Uses an input model to generate predictions on data windows\n",
        "\n",
        "    Args:\n",
        "      model (TF Keras Model) - model that accepts data windows\n",
        "      series (array of float) - contains the values of the time series\n",
        "      window_size (int) - the number of time steps to include in the window\n",
        "      batch_size (int) - the batch size\n",
        "\n",
        "    Returns:\n",
        "      forecast (numpy array) - array containing predictions\n",
        "    \"\"\"\n",
        "\n",
        "    # Generate a TF Dataset from the series values\n",
        "    dataset = tf.data.Dataset.from_tensor_slices(series)\n",
        "\n",
        "    # Window the data but only take those with the specified size\n",
        "    dataset = dataset.window(window_size, shift=1, drop_remainder=True)\n",
        "\n",
        "    # Flatten the windows by putting its elements in a single batch\n",
        "    dataset = dataset.flat_map(lambda w: w.batch(window_size))\n",
        "\n",
        "    # Create batches of windows\n",
        "    dataset = dataset.batch(batch_size).prefetch(1)\n",
        "\n",
        "    # Get predictions on the entire dataset\n",
        "    forecast = model.predict(dataset)\n",
        "\n",
        "    return forecast"
      ]
    },
    {
      "cell_type": "code",
      "execution_count": 13,
      "metadata": {
        "id": "_plB3UseBD8o",
        "colab": {
          "base_uri": "https://localhost:8080/",
          "height": 559
        },
        "outputId": "a4f611a7-4105-43fb-d9dc-5bb8835ddc42"
      },
      "outputs": [
        {
          "output_type": "stream",
          "name": "stdout",
          "text": [
            "15/15 [==============================] - 1s 6ms/step\n"
          ]
        },
        {
          "output_type": "display_data",
          "data": {
            "text/plain": [
              "<Figure size 1000x600 with 1 Axes>"
            ],
            "image/png": "[encoded data removed]"
          },
          "metadata": {}
        }
      ],
      "source": [
        "# Reduce the original series\n",
        "forecast_series = series[split_time-window_size:-1]\n",
        "\n",
        "# Use helper function to generate predictions\n",
        "forecast = model_forecast(model, forecast_series, window_size, batch_size)\n",
        "\n",
        "# Drop single dimensional axis\n",
        "results = forecast.squeeze()\n",
        "\n",
        "# Plot the results\n",
        "plot_series(time_valid, (x_valid, results))"
      ]
    },
    {
      "cell_type": "markdown",
      "metadata": {
        "id": "Nn8iSQkZtaRC"
      },
      "source": [
        "You can then generate the metrics to evaluate the model's performance."
      ]
    },
    {
      "cell_type": "code",
      "execution_count": 14,
      "metadata": {
        "id": "-IKhueZaBGID",
        "colab": {
          "base_uri": "https://localhost:8080/"
        },
        "outputId": "57b97e48-3664-4391-ff00-7496116336f8"
      },
      "outputs": [
        {
          "output_type": "stream",
          "name": "stdout",
          "text": [
            "92.718994\n",
            "6.951602\n"
          ]
        }
      ],
      "source": [
        "# Compute the MSE and MAE\n",
        "print(tf.keras.metrics.mean_squared_error(x_valid, results).numpy())\n",
        "print(tf.keras.metrics.mean_absolute_error(x_valid, results).numpy())"
      ]
    },
    {
      "cell_type": "markdown",
      "metadata": {
        "id": "bzPIqeMWvbPy"
      },
      "source": [
        "## Wrap Up\n",
        "\n",
        "This concludes this short exercise on using LSTMs for time series forecasting. Next week, you will build upon this and add convolutions. Then, you will start to move away from synthetic data and use real-world datasets. See you there!"
      ]
    },
    {
      "cell_type": "markdown",
      "metadata": {
        "id": "U5PqTePGHeMH"
      },
      "source": [
        "## Optional: Including a Validation Set while Training\n",
        "\n",
        "Back in the first course of this specialization, you saw how you can also monitor the performance of your model against a validation set while training. You can also do that for this lab.\n",
        "\n",
        "First, you need to generate a `val_set` which are data windows and labels that your model can accept. You can simply reuse the `windowed_dataset` function for that and you can pass in the `x_valid` points to generate the windows."
      ]
    },
    {
      "cell_type": "code",
      "execution_count": 15,
      "metadata": {
        "id": "kvFVwL3PC4iX"
      },
      "outputs": [],
      "source": [
        "# Generate data windows of the validation set\n",
        "val_set = windowed_dataset(x_valid, window_size, batch_size, shuffle_buffer_size)"
      ]
    },
    {
      "cell_type": "markdown",
      "metadata": {
        "id": "p68j6XxEvP9K"
      },
      "source": [
        "You can then do the same training as before but pass in the `val_set` to the `validation_data` parameter of the `fit()` method."
      ]
    },
    {
      "cell_type": "code",
      "execution_count": 16,
      "metadata": {
        "id": "wujKz6tXDSn0",
        "colab": {
          "base_uri": "https://localhost:8080/"
        },
        "outputId": "520791ea-29b9-4986-e06f-a83f332f5137"
      },
      "outputs": [
        {
          "output_type": "stream",
          "name": "stdout",
          "text": [
            "Epoch 1/100\n",
            "31/31 [==============================] - 9s 60ms/step - loss: 12.2080 - mae: 12.6958 - val_loss: 19.1080 - val_mae: 19.6063\n",
            "Epoch 2/100\n",
            "31/31 [==============================] - 1s 14ms/step - loss: 6.8255 - mae: 7.3076 - val_loss: 13.4409 - val_mae: 13.9329\n",
            "Epoch 3/100\n",
            "31/31 [==============================] - 1s 13ms/step - loss: 6.4147 - mae: 6.8931 - val_loss: 10.7743 - val_mae: 11.2610\n",
            "Epoch 4/100\n",
            "31/31 [==============================] - 1s 14ms/step - loss: 6.3297 - mae: 6.8056 - val_loss: 10.8372 - val_mae: 11.3299\n",
            "Epoch 5/100\n",
            "31/31 [==============================] - 1s 15ms/step - loss: 6.2501 - mae: 6.7298 - val_loss: 9.9462 - val_mae: 10.4394\n",
            "Epoch 6/100\n",
            "31/31 [==============================] - 1s 14ms/step - loss: 6.0883 - mae: 6.5626 - val_loss: 9.4919 - val_mae: 9.9793\n",
            "Epoch 7/100\n",
            "31/31 [==============================] - 1s 14ms/step - loss: 5.9788 - mae: 6.4544 - val_loss: 10.3533 - val_mae: 10.8400\n",
            "Epoch 8/100\n",
            "31/31 [==============================] - 0s 13ms/step - loss: 6.0610 - mae: 6.5452 - val_loss: 9.0168 - val_mae: 9.5019\n",
            "Epoch 9/100\n",
            "31/31 [==============================] - 1s 13ms/step - loss: 5.8393 - mae: 6.3110 - val_loss: 8.6329 - val_mae: 9.1197\n",
            "Epoch 10/100\n",
            "31/31 [==============================] - 1s 14ms/step - loss: 5.7997 - mae: 6.2786 - val_loss: 8.6271 - val_mae: 9.1115\n",
            "Epoch 11/100\n",
            "31/31 [==============================] - 1s 13ms/step - loss: 5.8359 - mae: 6.3140 - val_loss: 9.6547 - val_mae: 10.1480\n",
            "Epoch 12/100\n",
            "31/31 [==============================] - 1s 14ms/step - loss: 5.7229 - mae: 6.1982 - val_loss: 8.9401 - val_mae: 9.4273\n",
            "Epoch 13/100\n",
            "31/31 [==============================] - 1s 15ms/step - loss: 5.6619 - mae: 6.1400 - val_loss: 8.2978 - val_mae: 8.7842\n",
            "Epoch 14/100\n",
            "31/31 [==============================] - 1s 18ms/step - loss: 5.5535 - mae: 6.0297 - val_loss: 9.3255 - val_mae: 9.8152\n",
            "Epoch 15/100\n",
            "31/31 [==============================] - 1s 18ms/step - loss: 5.5587 - mae: 6.0354 - val_loss: 8.3268 - val_mae: 8.8127\n",
            "Epoch 16/100\n",
            "31/31 [==============================] - 1s 19ms/step - loss: 5.4747 - mae: 5.9513 - val_loss: 8.1208 - val_mae: 8.6084\n",
            "Epoch 17/100\n",
            "31/31 [==============================] - 0s 13ms/step - loss: 5.4560 - mae: 5.9335 - val_loss: 8.2549 - val_mae: 8.7413\n",
            "Epoch 18/100\n",
            "31/31 [==============================] - 0s 13ms/step - loss: 5.3797 - mae: 5.8583 - val_loss: 7.1278 - val_mae: 7.6080\n",
            "Epoch 19/100\n",
            "31/31 [==============================] - 1s 15ms/step - loss: 5.3659 - mae: 5.8434 - val_loss: 7.6427 - val_mae: 8.1302\n",
            "Epoch 20/100\n",
            "31/31 [==============================] - 0s 13ms/step - loss: 5.4277 - mae: 5.9070 - val_loss: 7.5509 - val_mae: 8.0367\n",
            "Epoch 21/100\n",
            "31/31 [==============================] - 0s 13ms/step - loss: 5.3585 - mae: 5.8358 - val_loss: 7.3639 - val_mae: 7.8468\n",
            "Epoch 22/100\n",
            "31/31 [==============================] - 1s 15ms/step - loss: 5.3013 - mae: 5.7789 - val_loss: 7.6095 - val_mae: 8.0985\n",
            "Epoch 23/100\n",
            "31/31 [==============================] - 0s 13ms/step - loss: 5.2433 - mae: 5.7242 - val_loss: 6.8229 - val_mae: 7.3060\n",
            "Epoch 24/100\n",
            "31/31 [==============================] - 1s 14ms/step - loss: 5.2013 - mae: 5.6770 - val_loss: 7.4838 - val_mae: 7.9710\n",
            "Epoch 25/100\n",
            "31/31 [==============================] - 1s 14ms/step - loss: 5.2110 - mae: 5.6898 - val_loss: 7.4131 - val_mae: 7.9004\n",
            "Epoch 26/100\n",
            "31/31 [==============================] - 1s 14ms/step - loss: 5.1693 - mae: 5.6467 - val_loss: 7.0844 - val_mae: 7.5672\n",
            "Epoch 27/100\n",
            "31/31 [==============================] - 0s 13ms/step - loss: 5.1135 - mae: 5.5920 - val_loss: 7.0915 - val_mae: 7.5737\n",
            "Epoch 28/100\n",
            "31/31 [==============================] - 1s 15ms/step - loss: 5.1840 - mae: 5.6605 - val_loss: 6.5274 - val_mae: 7.0117\n",
            "Epoch 29/100\n",
            "31/31 [==============================] - 1s 15ms/step - loss: 5.1164 - mae: 5.5941 - val_loss: 7.0014 - val_mae: 7.4812\n",
            "Epoch 30/100\n",
            "31/31 [==============================] - 1s 14ms/step - loss: 5.2153 - mae: 5.6917 - val_loss: 7.4810 - val_mae: 7.9679\n",
            "Epoch 31/100\n",
            "31/31 [==============================] - 1s 14ms/step - loss: 5.0820 - mae: 5.5591 - val_loss: 7.4696 - val_mae: 7.9553\n",
            "Epoch 32/100\n",
            "31/31 [==============================] - 1s 15ms/step - loss: 5.0947 - mae: 5.5705 - val_loss: 7.4206 - val_mae: 7.9061\n",
            "Epoch 33/100\n",
            "31/31 [==============================] - 1s 14ms/step - loss: 5.0144 - mae: 5.4868 - val_loss: 7.1500 - val_mae: 7.6333\n",
            "Epoch 34/100\n",
            "31/31 [==============================] - 1s 13ms/step - loss: 5.0285 - mae: 5.5016 - val_loss: 6.9713 - val_mae: 7.4540\n",
            "Epoch 35/100\n",
            "31/31 [==============================] - 1s 25ms/step - loss: 4.9736 - mae: 5.4485 - val_loss: 7.8903 - val_mae: 8.3719\n",
            "Epoch 36/100\n",
            "31/31 [==============================] - 1s 25ms/step - loss: 4.9540 - mae: 5.4285 - val_loss: 7.5386 - val_mae: 8.0267\n",
            "Epoch 37/100\n",
            "31/31 [==============================] - 1s 24ms/step - loss: 4.9471 - mae: 5.4255 - val_loss: 6.9602 - val_mae: 7.4414\n",
            "Epoch 38/100\n",
            "31/31 [==============================] - 1s 13ms/step - loss: 4.8763 - mae: 5.3494 - val_loss: 6.6994 - val_mae: 7.1817\n",
            "Epoch 39/100\n",
            "31/31 [==============================] - 1s 14ms/step - loss: 4.9068 - mae: 5.3835 - val_loss: 6.3446 - val_mae: 6.8290\n",
            "Epoch 40/100\n",
            "31/31 [==============================] - 0s 13ms/step - loss: 4.9576 - mae: 5.4304 - val_loss: 6.2601 - val_mae: 6.7426\n",
            "Epoch 41/100\n",
            "31/31 [==============================] - 0s 12ms/step - loss: 4.9572 - mae: 5.4326 - val_loss: 7.0986 - val_mae: 7.5791\n",
            "Epoch 42/100\n",
            "31/31 [==============================] - 0s 13ms/step - loss: 4.8674 - mae: 5.3413 - val_loss: 6.2956 - val_mae: 6.7791\n",
            "Epoch 43/100\n",
            "31/31 [==============================] - 0s 13ms/step - loss: 5.1096 - mae: 5.5853 - val_loss: 6.7034 - val_mae: 7.1862\n",
            "Epoch 44/100\n",
            "31/31 [==============================] - 0s 12ms/step - loss: 4.9125 - mae: 5.3841 - val_loss: 6.3888 - val_mae: 6.8726\n",
            "Epoch 45/100\n",
            "31/31 [==============================] - 0s 13ms/step - loss: 4.8823 - mae: 5.3585 - val_loss: 6.3878 - val_mae: 6.8715\n",
            "Epoch 46/100\n",
            "31/31 [==============================] - 0s 13ms/step - loss: 4.8705 - mae: 5.3500 - val_loss: 6.6234 - val_mae: 7.1048\n",
            "Epoch 47/100\n",
            "31/31 [==============================] - 0s 12ms/step - loss: 4.8182 - mae: 5.2910 - val_loss: 6.3343 - val_mae: 6.8179\n",
            "Epoch 48/100\n",
            "31/31 [==============================] - 0s 12ms/step - loss: 4.8733 - mae: 5.3497 - val_loss: 6.6239 - val_mae: 7.1072\n",
            "Epoch 49/100\n",
            "31/31 [==============================] - 0s 12ms/step - loss: 4.8620 - mae: 5.3434 - val_loss: 7.2867 - val_mae: 7.7717\n",
            "Epoch 50/100\n",
            "31/31 [==============================] - 0s 12ms/step - loss: 4.8036 - mae: 5.2816 - val_loss: 7.6814 - val_mae: 8.1664\n",
            "Epoch 51/100\n",
            "31/31 [==============================] - 0s 13ms/step - loss: 4.7597 - mae: 5.2355 - val_loss: 6.6505 - val_mae: 7.1314\n",
            "Epoch 52/100\n",
            "31/31 [==============================] - 0s 13ms/step - loss: 4.7309 - mae: 5.2050 - val_loss: 6.5382 - val_mae: 7.0190\n",
            "Epoch 53/100\n",
            "31/31 [==============================] - 1s 13ms/step - loss: 4.7302 - mae: 5.2063 - val_loss: 6.7179 - val_mae: 7.2027\n",
            "Epoch 54/100\n",
            "31/31 [==============================] - 1s 13ms/step - loss: 4.7103 - mae: 5.1874 - val_loss: 6.3249 - val_mae: 6.8013\n",
            "Epoch 55/100\n",
            "31/31 [==============================] - 1s 13ms/step - loss: 4.7178 - mae: 5.1924 - val_loss: 5.9552 - val_mae: 6.4402\n",
            "Epoch 56/100\n",
            "31/31 [==============================] - 0s 13ms/step - loss: 4.7365 - mae: 5.2106 - val_loss: 6.7263 - val_mae: 7.2085\n",
            "Epoch 57/100\n",
            "31/31 [==============================] - 1s 23ms/step - loss: 4.6270 - mae: 5.1010 - val_loss: 6.4615 - val_mae: 6.9413\n",
            "Epoch 58/100\n",
            "31/31 [==============================] - 1s 24ms/step - loss: 4.6612 - mae: 5.1368 - val_loss: 6.9974 - val_mae: 7.4800\n",
            "Epoch 59/100\n",
            "31/31 [==============================] - 1s 25ms/step - loss: 4.7196 - mae: 5.1936 - val_loss: 5.8218 - val_mae: 6.3003\n",
            "Epoch 60/100\n",
            "31/31 [==============================] - 1s 25ms/step - loss: 4.8165 - mae: 5.2926 - val_loss: 6.6655 - val_mae: 7.1466\n",
            "Epoch 61/100\n",
            "31/31 [==============================] - 1s 14ms/step - loss: 4.7950 - mae: 5.2721 - val_loss: 6.7675 - val_mae: 7.2493\n",
            "Epoch 62/100\n",
            "31/31 [==============================] - 1s 14ms/step - loss: 4.6501 - mae: 5.1287 - val_loss: 7.2472 - val_mae: 7.7320\n",
            "Epoch 63/100\n",
            "31/31 [==============================] - 1s 14ms/step - loss: 4.6764 - mae: 5.1526 - val_loss: 6.6163 - val_mae: 7.0977\n",
            "Epoch 64/100\n",
            "31/31 [==============================] - 1s 14ms/step - loss: 4.8172 - mae: 5.2950 - val_loss: 6.9266 - val_mae: 7.4086\n",
            "Epoch 65/100\n",
            "31/31 [==============================] - 1s 14ms/step - loss: 4.6660 - mae: 5.1469 - val_loss: 6.2623 - val_mae: 6.7416\n",
            "Epoch 66/100\n",
            "31/31 [==============================] - 1s 15ms/step - loss: 4.6056 - mae: 5.0811 - val_loss: 6.1405 - val_mae: 6.6217\n",
            "Epoch 67/100\n",
            "31/31 [==============================] - 1s 14ms/step - loss: 4.6393 - mae: 5.1150 - val_loss: 5.8853 - val_mae: 6.3715\n",
            "Epoch 68/100\n",
            "31/31 [==============================] - 1s 14ms/step - loss: 4.5956 - mae: 5.0724 - val_loss: 5.7452 - val_mae: 6.2255\n",
            "Epoch 69/100\n",
            "31/31 [==============================] - 1s 14ms/step - loss: 4.6195 - mae: 5.0937 - val_loss: 6.4918 - val_mae: 6.9723\n",
            "Epoch 70/100\n",
            "31/31 [==============================] - 1s 15ms/step - loss: 4.5958 - mae: 5.0708 - val_loss: 6.1749 - val_mae: 6.6558\n",
            "Epoch 71/100\n",
            "31/31 [==============================] - 1s 14ms/step - loss: 4.5589 - mae: 5.0313 - val_loss: 5.6574 - val_mae: 6.1365\n",
            "Epoch 72/100\n",
            "31/31 [==============================] - 0s 13ms/step - loss: 4.8034 - mae: 5.2777 - val_loss: 6.2351 - val_mae: 6.7147\n",
            "Epoch 73/100\n",
            "31/31 [==============================] - 0s 12ms/step - loss: 4.5244 - mae: 4.9979 - val_loss: 5.9952 - val_mae: 6.4761\n",
            "Epoch 74/100\n",
            "31/31 [==============================] - 0s 12ms/step - loss: 4.6301 - mae: 5.1069 - val_loss: 6.0088 - val_mae: 6.4910\n",
            "Epoch 75/100\n",
            "31/31 [==============================] - 1s 14ms/step - loss: 4.5218 - mae: 4.9934 - val_loss: 5.6446 - val_mae: 6.1223\n",
            "Epoch 76/100\n",
            "31/31 [==============================] - 0s 12ms/step - loss: 4.6538 - mae: 5.1295 - val_loss: 6.5707 - val_mae: 7.0519\n",
            "Epoch 77/100\n",
            "31/31 [==============================] - 0s 13ms/step - loss: 4.5605 - mae: 5.0367 - val_loss: 6.1234 - val_mae: 6.6046\n",
            "Epoch 78/100\n",
            "31/31 [==============================] - 1s 19ms/step - loss: 4.5867 - mae: 5.0607 - val_loss: 5.8749 - val_mae: 6.3577\n",
            "Epoch 79/100\n",
            "31/31 [==============================] - 1s 23ms/step - loss: 4.5852 - mae: 5.0619 - val_loss: 6.4224 - val_mae: 6.9044\n",
            "Epoch 80/100\n",
            "31/31 [==============================] - 1s 18ms/step - loss: 4.6495 - mae: 5.1257 - val_loss: 6.6069 - val_mae: 7.0868\n",
            "Epoch 81/100\n",
            "31/31 [==============================] - 0s 13ms/step - loss: 4.5787 - mae: 5.0587 - val_loss: 6.9482 - val_mae: 7.4302\n",
            "Epoch 82/100\n",
            "31/31 [==============================] - 0s 12ms/step - loss: 4.6260 - mae: 5.1022 - val_loss: 7.1138 - val_mae: 7.5995\n",
            "Epoch 83/100\n",
            "31/31 [==============================] - 0s 13ms/step - loss: 4.5292 - mae: 5.0026 - val_loss: 5.5327 - val_mae: 6.0126\n",
            "Epoch 84/100\n",
            "31/31 [==============================] - 0s 12ms/step - loss: 4.5156 - mae: 4.9917 - val_loss: 5.8734 - val_mae: 6.3570\n",
            "Epoch 85/100\n",
            "31/31 [==============================] - 0s 12ms/step - loss: 4.5487 - mae: 5.0250 - val_loss: 6.1540 - val_mae: 6.6335\n",
            "Epoch 86/100\n",
            "31/31 [==============================] - 0s 13ms/step - loss: 4.5152 - mae: 4.9912 - val_loss: 6.0631 - val_mae: 6.5424\n",
            "Epoch 87/100\n",
            "31/31 [==============================] - 0s 12ms/step - loss: 4.5192 - mae: 4.9913 - val_loss: 5.7115 - val_mae: 6.1956\n",
            "Epoch 88/100\n",
            "31/31 [==============================] - 1s 14ms/step - loss: 4.4984 - mae: 4.9757 - val_loss: 6.4360 - val_mae: 6.9168\n",
            "Epoch 89/100\n",
            "31/31 [==============================] - 0s 13ms/step - loss: 4.5030 - mae: 4.9810 - val_loss: 6.3370 - val_mae: 6.8190\n",
            "Epoch 90/100\n",
            "31/31 [==============================] - 0s 12ms/step - loss: 4.4796 - mae: 4.9544 - val_loss: 5.6787 - val_mae: 6.1620\n",
            "Epoch 91/100\n",
            "31/31 [==============================] - 0s 12ms/step - loss: 4.4651 - mae: 4.9353 - val_loss: 5.9675 - val_mae: 6.4505\n",
            "Epoch 92/100\n",
            "31/31 [==============================] - 0s 12ms/step - loss: 4.4650 - mae: 4.9386 - val_loss: 6.6018 - val_mae: 7.0848\n",
            "Epoch 93/100\n",
            "31/31 [==============================] - 1s 13ms/step - loss: 4.6491 - mae: 5.1249 - val_loss: 6.7326 - val_mae: 7.2122\n",
            "Epoch 94/100\n",
            "31/31 [==============================] - 0s 12ms/step - loss: 4.4759 - mae: 4.9525 - val_loss: 5.7898 - val_mae: 6.2737\n",
            "Epoch 95/100\n",
            "31/31 [==============================] - 0s 12ms/step - loss: 4.4576 - mae: 4.9338 - val_loss: 6.2922 - val_mae: 6.7744\n",
            "Epoch 96/100\n",
            "31/31 [==============================] - 0s 13ms/step - loss: 4.5306 - mae: 5.0079 - val_loss: 5.9318 - val_mae: 6.4137\n",
            "Epoch 97/100\n",
            "31/31 [==============================] - 1s 14ms/step - loss: 4.4882 - mae: 4.9587 - val_loss: 5.9392 - val_mae: 6.4222\n",
            "Epoch 98/100\n",
            "31/31 [==============================] - 1s 15ms/step - loss: 4.5272 - mae: 5.0030 - val_loss: 5.6039 - val_mae: 6.0876\n",
            "Epoch 99/100\n",
            "31/31 [==============================] - 1s 20ms/step - loss: 4.6193 - mae: 5.0900 - val_loss: 5.6019 - val_mae: 6.0844\n",
            "Epoch 100/100\n",
            "31/31 [==============================] - 1s 25ms/step - loss: 4.4974 - mae: 4.9757 - val_loss: 5.6957 - val_mae: 6.1806\n"
          ]
        }
      ],
      "source": [
        "# Reset states generated by Keras\n",
        "tf.keras.backend.clear_session()\n",
        "\n",
        "# Build the model\n",
        "model = tf.keras.models.Sequential([\n",
        "  tf.keras.layers.Lambda(lambda x: tf.expand_dims(x, axis=-1),\n",
        "                      input_shape=[None]),\n",
        "   tf.keras.layers.Bidirectional(tf.keras.layers.LSTM(32, return_sequences=True)),\n",
        "  tf.keras.layers.Bidirectional(tf.keras.layers.LSTM(32)),\n",
        "  tf.keras.layers.Dense(1),\n",
        "  tf.keras.layers.Lambda(lambda x: x * 100.0)\n",
        "])\n",
        "\n",
        "# Set the learning rate\n",
        "learning_rate = 2e-6\n",
        "\n",
        "# Set the optimizer\n",
        "optimizer = tf.keras.optimizers.SGD(learning_rate=learning_rate, momentum=0.9)\n",
        "\n",
        "# Set the training parameters\n",
        "model.compile(loss=tf.keras.losses.Huber(),\n",
        "              optimizer=optimizer,\n",
        "              metrics=[\"mae\"])\n",
        "\n",
        "# Train the model\n",
        "history = model.fit(dataset,epochs=100, validation_data=val_set)"
      ]
    }
  ],
  "metadata": {
    "accelerator": "GPU",
    "colab": {
      "provenance": [],
      "gpuType": "T4",
      "include_colab_link": true
    },
    "kernelspec": {
      "display_name": "Python 3",
      "name": "python3"
    },
    "language_info": {
      "codemirror_mode": {
        "name": "ipython",
        "version": 3
      },
      "file_extension": ".py",
      "mimetype": "text/x-python",
      "name": "python",
      "nbconvert_exporter": "python",
      "pygments_lexer": "ipython3",
      "version": "3.9.13"
    }
  },
  "nbformat": 4,
  "nbformat_minor": 0
}